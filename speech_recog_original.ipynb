{
  "nbformat": 4,
  "nbformat_minor": 0,
  "metadata": {
    "colab": {
      "provenance": [],
      "include_colab_link": true
    },
    "kernelspec": {
      "name": "python3",
      "display_name": "Python 3"
    },
    "language_info": {
      "name": "python"
    }
  },
  "cells": [
    {
      "cell_type": "markdown",
      "metadata": {
        "id": "view-in-github",
        "colab_type": "text"
      },
      "source": [
        "<a href=\"https://colab.research.google.com/github/20-hayato/practice/blob/master/speech_recog_original.ipynb\" target=\"_parent\"><img src=\"https://colab.research.google.com/assets/colab-badge.svg\" alt=\"Open In Colab\"/></a>"
      ]
    },
    {
      "cell_type": "code",
      "source": [
        "!pip install SpeechRecognition\n",
        "!pip install pydub\n",
        "!apt-get install ffmpeg"
      ],
      "metadata": {
        "colab": {
          "base_uri": "https://localhost:8080/"
        },
        "id": "P6hQQhb027HS",
        "outputId": "60719f90-0fc0-4fe7-de5d-a1bc0a05036e"
      },
      "execution_count": 1,
      "outputs": [
        {
          "output_type": "stream",
          "name": "stdout",
          "text": [
            "Requirement already satisfied: SpeechRecognition in /usr/local/lib/python3.10/dist-packages (3.10.0)\n",
            "Requirement already satisfied: requests>=2.26.0 in /usr/local/lib/python3.10/dist-packages (from SpeechRecognition) (2.31.0)\n",
            "Requirement already satisfied: charset-normalizer<4,>=2 in /usr/local/lib/python3.10/dist-packages (from requests>=2.26.0->SpeechRecognition) (3.3.2)\n",
            "Requirement already satisfied: idna<4,>=2.5 in /usr/local/lib/python3.10/dist-packages (from requests>=2.26.0->SpeechRecognition) (3.4)\n",
            "Requirement already satisfied: urllib3<3,>=1.21.1 in /usr/local/lib/python3.10/dist-packages (from requests>=2.26.0->SpeechRecognition) (2.0.7)\n",
            "Requirement already satisfied: certifi>=2017.4.17 in /usr/local/lib/python3.10/dist-packages (from requests>=2.26.0->SpeechRecognition) (2023.7.22)\n",
            "Requirement already satisfied: pydub in /usr/local/lib/python3.10/dist-packages (0.25.1)\n",
            "Reading package lists... Done\n",
            "Building dependency tree... Done\n",
            "Reading state information... Done\n",
            "ffmpeg is already the newest version (7:4.4.2-0ubuntu0.22.04.1).\n",
            "0 upgraded, 0 newly installed, 0 to remove and 19 not upgraded.\n"
          ]
        }
      ]
    },
    {
      "cell_type": "code",
      "source": [
        "from zmq.constants import RECONNECT_IVL\n",
        "from IPython.display import display, Javascript\n",
        "from google.colab.output import eval_js\n",
        "from base64 import b64decode\n",
        "from os import path\n",
        "from pydub import AudioSegment\n",
        "import subprocess\n",
        "from datetime import datetime, timedelta, timezone\n",
        "\n",
        "RECORD_DIR = \"record_data/\"\n",
        "JST = timezone(timedelta(hours=+9), 'JST')\n",
        "\n",
        "def record_js(filename='record'):\n",
        "  date = datetime.now(JST).strftime('%Y%m%d_%H:%M:%S')\n",
        "  js = Javascript('''\n",
        "    async function record() {\n",
        "      let rec;\n",
        "      let chanks;\n",
        "\n",
        "\n",
        "      // HTML組み立て\n",
        "      const div = document.createElement('div');\n",
        "      const startRecord = document.createElement('button');\n",
        "      startRecord.textContent = 'Rec';\n",
        "      div.appendChild(startRecord);\n",
        "\n",
        "      const stopRecord = document.createElement('button');\n",
        "      stopRecord.textContent = 'Stop';\n",
        "      stopRecord.style.display = 'none'\n",
        "      div.appendChild(stopRecord);\n",
        "\n",
        "      const audio = document.createElement('audio');\n",
        "      div.appendChild(audio);\n",
        "\n",
        "      document.body.appendChild(div);\n",
        "\n",
        "      // Audioが有効になったら\n",
        "      function handlerFunction(stream,resolve) {\n",
        "          rec = new MediaRecorder(stream);\n",
        "          // 録音が完了したら\n",
        "          rec.ondataavailable = e => {\n",
        "              chanks.push(e.data);\n",
        "              if (rec.state == \"inactive\") {\n",
        "                  let blob = new Blob(chanks, { type: 'audio/mpeg-3' });\n",
        "                  audio.src = URL.createObjectURL(blob);\n",
        "                  audio.controls = true;\n",
        "                  audio.autoplay = true;\n",
        "                  resolve();\n",
        "              }\n",
        "          }\n",
        "      }\n",
        "\n",
        "      startRecord.onclick = e => {\n",
        "          startRecord.style.display = 'none'\n",
        "          stopRecord.style.display = 'block'\n",
        "          chanks = [];\n",
        "          rec.start();\n",
        "      }\n",
        "\n",
        "      stopRecord.onclick = e => {\n",
        "        startRecord.style.display = 'block'\n",
        "        stopRecord.style.display = 'none'\n",
        "        rec.stop();\n",
        "      }\n",
        "\n",
        "      function blobToBase64(blob) {\n",
        "        return new Promise((resolve, _) => {\n",
        "          const reader = new FileReader();\n",
        "          reader.onloadend = () => resolve(reader.result);\n",
        "          reader.readAsDataURL(blob);\n",
        "        });\n",
        "      }\n",
        "\n",
        "      await new Promise((resolve) => {\n",
        "        navigator.mediaDevices.getUserMedia({ audio: true })\n",
        "            .then(stream => { handlerFunction(stream,resolve) })\n",
        "      });\n",
        "      let blob = new Blob(chanks, { type: 'audio/mpeg-3' });\n",
        "      return await blobToBase64(blob);\n",
        "    }\n",
        "    ''')\n",
        "  display(js)\n",
        "  data = eval_js('record()')\n",
        "  binary = b64decode(data.split(',')[1])\n",
        "\n",
        "  filename_date = RECORD_DIR + filename + \"_\" + date + '.mp3'\n",
        "  with open(filename_date, 'wb') as f:\n",
        "    f.write(binary)\n",
        "  return filename_date\n",
        "\n",
        "def mp3_to_wav(src):\n",
        "  filename = src.split('.', 1)[0]\n",
        "  dst = filename +'.wav'\n",
        "  subprocess.call([\"ffmpeg\", \"-i\", src, dst])\n",
        "  return dst"
      ],
      "metadata": {
        "id": "GxYi_aKRN-jd"
      },
      "execution_count": 2,
      "outputs": []
    },
    {
      "cell_type": "code",
      "source": [
        "import speech_recognition as sr\n",
        "import glob\n",
        "\n",
        "r = sr.Recognizer()\n",
        "\n",
        "try:\n",
        "  filename_mp3 = record_js()\n",
        "  filename_wav = mp3_to_wav(filename_mp3)\n",
        "\n",
        "  print(\"waiting for converting...\")\n",
        "  while glob.glob(filename_wav, recursive=False) == []:\n",
        "    pass\n",
        "\n",
        "  audio_file = sr.AudioFile(filename_wav)\n",
        "  with audio_file as source:\n",
        "      r.adjust_for_ambient_noise(source) #雑音対策\n",
        "      audio = r.record(source)\n",
        "  print(\"result: \")\n",
        "  print(r.recognize_google(audio, language='ja-JP'))\n",
        "except Exception as err:\n",
        "  print(str(err))\n"
      ],
      "metadata": {
        "colab": {
          "base_uri": "https://localhost:8080/",
          "height": 151
        },
        "id": "HACWxhfn3Ss7",
        "outputId": "fbf087de-879b-4a5d-fb67-93454a55adfd"
      },
      "execution_count": 3,
      "outputs": [
        {
          "output_type": "display_data",
          "data": {
            "text/plain": [
              "<IPython.core.display.Javascript object>"
            ],
            "application/javascript": [
              "\n",
              "    async function record() {\n",
              "      let rec;\n",
              "      let chanks;\n",
              "\n",
              "\n",
              "      // HTML組み立て\n",
              "      const div = document.createElement('div');\n",
              "      const startRecord = document.createElement('button');\n",
              "      startRecord.textContent = 'Rec';\n",
              "      div.appendChild(startRecord);\n",
              "\n",
              "      const stopRecord = document.createElement('button');\n",
              "      stopRecord.textContent = 'Stop';\n",
              "      stopRecord.style.display = 'none'\n",
              "      div.appendChild(stopRecord);\n",
              "\n",
              "      const audio = document.createElement('audio');\n",
              "      div.appendChild(audio);\n",
              "\n",
              "      document.body.appendChild(div);\n",
              "\n",
              "      // Audioが有効になったら\n",
              "      function handlerFunction(stream,resolve) {\n",
              "          rec = new MediaRecorder(stream);\n",
              "          // 録音が完了したら\n",
              "          rec.ondataavailable = e => {\n",
              "              chanks.push(e.data);\n",
              "              if (rec.state == \"inactive\") {\n",
              "                  let blob = new Blob(chanks, { type: 'audio/mpeg-3' });\n",
              "                  audio.src = URL.createObjectURL(blob);\n",
              "                  audio.controls = true;\n",
              "                  audio.autoplay = true;\n",
              "                  resolve();\n",
              "              }\n",
              "          }\n",
              "      }\n",
              "\n",
              "      startRecord.onclick = e => {\n",
              "          startRecord.style.display = 'none'\n",
              "          stopRecord.style.display = 'block'\n",
              "          chanks = [];\n",
              "          rec.start();\n",
              "      }\n",
              "\n",
              "      stopRecord.onclick = e => {\n",
              "        startRecord.style.display = 'block'\n",
              "        stopRecord.style.display = 'none'\n",
              "        rec.stop();\n",
              "      }\n",
              "\n",
              "      function blobToBase64(blob) {\n",
              "        return new Promise((resolve, _) => {\n",
              "          const reader = new FileReader();\n",
              "          reader.onloadend = () => resolve(reader.result);\n",
              "          reader.readAsDataURL(blob);\n",
              "        });\n",
              "      }\n",
              "\n",
              "      await new Promise((resolve) => {\n",
              "        navigator.mediaDevices.getUserMedia({ audio: true })\n",
              "            .then(stream => { handlerFunction(stream,resolve) })\n",
              "      });\n",
              "      let blob = new Blob(chanks, { type: 'audio/mpeg-3' });\n",
              "      return await blobToBase64(blob);\n",
              "    }\n",
              "    "
            ]
          },
          "metadata": {}
        },
        {
          "output_type": "stream",
          "name": "stdout",
          "text": [
            "waiting for converting...\n",
            "result: \n",
            "あいうえ たちつてとご飯は何ですか\n"
          ]
        }
      ]
    },
    {
      "cell_type": "code",
      "source": [
        "# 消去用スクリプト\n",
        "!ls ./record_data/\n",
        "!rm ./record_data/*"
      ],
      "metadata": {
        "colab": {
          "base_uri": "https://localhost:8080/"
        },
        "id": "lSpWOTVYeHnN",
        "outputId": "d1d9d2f4-8a8f-4613-b6fe-337692ede2aa"
      },
      "execution_count": 32,
      "outputs": [
        {
          "output_type": "stream",
          "name": "stdout",
          "text": [
            "record_20231113_16:01:17.mp3  record_20231113_16:01:17.wav\n"
          ]
        }
      ]
    }
  ]
}