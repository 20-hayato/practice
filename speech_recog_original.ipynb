{
  "nbformat": 4,
  "nbformat_minor": 0,
  "metadata": {
    "colab": {
      "provenance": [],
      "include_colab_link": true
    },
    "kernelspec": {
      "name": "python3",
      "display_name": "Python 3"
    },
    "language_info": {
      "name": "python"
    }
  },
  "cells": [
    {
      "cell_type": "markdown",
      "metadata": {
        "id": "view-in-github",
        "colab_type": "text"
      },
      "source": [
        "<a href=\"https://colab.research.google.com/github/20-hayato/practice/blob/master/speech_recog_original.ipynb\" target=\"_parent\"><img src=\"https://colab.research.google.com/assets/colab-badge.svg\" alt=\"Open In Colab\"/></a>"
      ]
    },
    {
      "cell_type": "code",
      "source": [
        "!pip install SpeechRecognition\n",
        "!pip install pydub\n",
        "!apt-get install ffmpeg"
      ],
      "metadata": {
        "id": "P6hQQhb027HS"
      },
      "execution_count": null,
      "outputs": []
    },
    {
      "cell_type": "code",
      "source": [
        "from zmq.constants import RECONNECT_IVL\n",
        "from IPython.display import display, Javascript\n",
        "from google.colab.output import eval_js\n",
        "from base64 import b64decode\n",
        "from os import path\n",
        "from pydub import AudioSegment\n",
        "import subprocess\n",
        "from datetime import datetime, timedelta, timezone\n",
        "\n",
        "RECORD_DIR = \"record_data/\"\n",
        "RESULT_DIR = \"result_data/\"\n",
        "JST = timezone(timedelta(hours=+9), 'JST')\n",
        "\n",
        "def record_js(fname='record'):\n",
        "  date = datetime.now(JST).strftime('%Y%m%d_%H:%M:%S')\n",
        "  js = Javascript('''\n",
        "    async function record() {\n",
        "      let rec;\n",
        "      let chanks;\n",
        "\n",
        "\n",
        "      // HTML組み立て\n",
        "      const div = document.createElement('div');\n",
        "      const startRecord = document.createElement('button');\n",
        "      startRecord.textContent = 'Rec';\n",
        "      div.appendChild(startRecord);\n",
        "\n",
        "      const stopRecord = document.createElement('button');\n",
        "      stopRecord.textContent = 'Stop';\n",
        "      stopRecord.style.display = 'none'\n",
        "      div.appendChild(stopRecord);\n",
        "\n",
        "      const audio = document.createElement('audio');\n",
        "      div.appendChild(audio);\n",
        "\n",
        "      document.body.appendChild(div);\n",
        "\n",
        "      // Audioが有効になったら\n",
        "      function handlerFunction(stream,resolve) {\n",
        "          rec = new MediaRecorder(stream);\n",
        "          // 録音が完了したら\n",
        "          rec.ondataavailable = e => {\n",
        "              chanks.push(e.data);\n",
        "              if (rec.state == \"inactive\") {\n",
        "                  let blob = new Blob(chanks, { type: 'audio/mpeg-3' });\n",
        "                  audio.src = URL.createObjectURL(blob);\n",
        "                  audio.controls = true;\n",
        "                  audio.autoplay = true;\n",
        "                  resolve();\n",
        "              }\n",
        "          }\n",
        "      }\n",
        "\n",
        "      startRecord.onclick = e => {\n",
        "          startRecord.style.display = 'none'\n",
        "          stopRecord.style.display = 'block'\n",
        "          chanks = [];\n",
        "          rec.start();\n",
        "      }\n",
        "\n",
        "      stopRecord.onclick = e => {\n",
        "        startRecord.style.display = 'block'\n",
        "        stopRecord.style.display = 'none'\n",
        "        rec.stop();\n",
        "      }\n",
        "\n",
        "      function blobToBase64(blob) {\n",
        "        return new Promise((resolve, _) => {\n",
        "          const reader = new FileReader();\n",
        "          reader.onloadend = () => resolve(reader.result);\n",
        "          reader.readAsDataURL(blob);\n",
        "        });\n",
        "      }\n",
        "\n",
        "      await new Promise((resolve) => {\n",
        "        navigator.mediaDevices.getUserMedia({ audio: true })\n",
        "            .then(stream => { handlerFunction(stream,resolve) })\n",
        "      });\n",
        "      let blob = new Blob(chanks, { type: 'audio/mpeg-3' });\n",
        "      return await blobToBase64(blob);\n",
        "    }\n",
        "    ''')\n",
        "  display(js)\n",
        "  data = eval_js('record()')\n",
        "  binary = b64decode(data.split(',')[1])\n",
        "\n",
        "  filename = fname + \"_\" + date + '.mp3'\n",
        "  filename_path = RECORD_DIR + filename\n",
        "  with open(filename_path, 'wb') as f:\n",
        "    f.write(binary)\n",
        "  return filename\n",
        "\n",
        "def mp3_to_wav(src_name):\n",
        "  src_path = RECORD_DIR + src_name\n",
        "  dst_name = src_name.split('.', 1)[0] + '.wav'\n",
        "  dst_path = RECORD_DIR + dst_name\n",
        "  subprocess.call([\"ffmpeg\", \"-i\", src_path, dst_path])\n",
        "  return dst_name\n",
        "\n",
        "def save_result(filename, result):\n",
        "  txt_name = filename_wav.split('.', 1)[0] + '.txt'\n",
        "  txt_path = RESULT_DIR + txt_name\n",
        "  with open(txt_path, 'w') as f:\n",
        "    f.write(result)"
      ],
      "metadata": {
        "id": "GxYi_aKRN-jd"
      },
      "execution_count": null,
      "outputs": []
    },
    {
      "cell_type": "code",
      "source": [
        "import speech_recognition as sr\n",
        "import glob\n",
        "\n",
        "r = sr.Recognizer()\n",
        "\n",
        "try:\n",
        "  filename_mp3 = record_js()\n",
        "  filename_wav = mp3_to_wav(filename_mp3)\n",
        "\n",
        "  print(\"waiting for converting...\")\n",
        "  while glob.glob(RECORD_DIR + filename_wav, recursive=True) == []:\n",
        "    pass\n",
        "\n",
        "  audio_file = sr.AudioFile(RECORD_DIR + filename_wav)\n",
        "  with audio_file as source:\n",
        "      r.adjust_for_ambient_noise(source) #雑音対策\n",
        "      audio = r.record(source)\n",
        "  print(\"result: \")\n",
        "  print(r.recognize_google(audio, language='ja-JP'))\n",
        "\n",
        "  print(\"save result\")\n",
        "  save_result(filename_wav, r.recognize_google(audio, language='ja-JP'))\n",
        "\n",
        "except Exception as err:\n",
        "  print(str(err))"
      ],
      "metadata": {
        "id": "HACWxhfn3Ss7"
      },
      "execution_count": null,
      "outputs": []
    },
    {
      "cell_type": "code",
      "source": [
        "# 消去用スクリプト\n",
        "!ls ./record_data/\n",
        "!rm ./record_data/*\n",
        "!ls ./result_data/\n",
        "!rm ./result_data/*"
      ],
      "metadata": {
        "id": "lSpWOTVYeHnN"
      },
      "execution_count": null,
      "outputs": []
    }
  ]
}